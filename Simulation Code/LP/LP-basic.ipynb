{
 "cells": [
  {
   "cell_type": "markdown",
   "metadata": {},
   "source": [
    "# 导入包和数据"
   ]
  },
  {
   "cell_type": "code",
   "execution_count": 637,
   "metadata": {},
   "outputs": [],
   "source": [
    "import pandas\n",
    "import numpy\n",
    "import gurobipy as gp\n",
    "import json"
   ]
  },
  {
   "cell_type": "code",
   "execution_count": 638,
   "metadata": {},
   "outputs": [],
   "source": [
    "# read data\n",
    "with open(\"sorted_ToyData_dict.json\") as json_file:\n",
    "     toy_data_dict= json.load(json_file)\n",
    "with open(\"location.json\") as json_file:\n",
    "     location = json.load(json_file)\n",
    "with open(\"slot.json\") as json_file:\n",
    "     slot = json.load(json_file)\n",
    "with open(\"data_req.json\") as json_file:\n",
    "     demand = json.load(json_file)\n",
    "with open(\"bandwidth.json\") as json_file:\n",
    "     bandwidth = json.load(json_file)"
   ]
  },
  {
   "cell_type": "markdown",
   "metadata": {},
   "source": [
    "# 初始化常量"
   ]
  },
  {
   "cell_type": "code",
   "execution_count": 639,
   "metadata": {},
   "outputs": [],
   "source": [
    "# number of jobs and slots\n",
    "K = len(toy_data_dict)\n",
    "J = len(slot)"
   ]
  },
  {
   "cell_type": "code",
   "execution_count": 640,
   "metadata": {},
   "outputs": [],
   "source": [
    "# number of tasks in a job in stage 1\n",
    "L = []\n",
    "for key in toy_data_dict.keys():\n",
    "    L.append(len(toy_data_dict[key]['stage']['1']))"
   ]
  },
  {
   "cell_type": "code",
   "execution_count": 641,
   "metadata": {},
   "outputs": [],
   "source": [
    "# slots number in a data center\n",
    "a = [];\n",
    "for val in slot.values():\n",
    "    a.append(val)"
   ]
  },
  {
   "cell_type": "code",
   "execution_count": 642,
   "metadata": {},
   "outputs": [],
   "source": [
    "# execution time of certain tasks\n",
    "e = []\n",
    "for i in toy_data_dict.keys():\n",
    "    exc = []\n",
    "    for j in toy_data_dict[i]['Execution Time'].values():\n",
    "        exc.append(j)\n",
    "    e.append(exc)"
   ]
  },
  {
   "cell_type": "code",
   "execution_count": 643,
   "metadata": {},
   "outputs": [],
   "source": [
    "# all tasks in stage 1\n",
    "tasks_1 = []\n",
    "for i in toy_data_dict.keys():\n",
    "    tasks_1.append(toy_data_dict[i]['stage']['1'])"
   ]
  },
  {
   "cell_type": "code",
   "execution_count": 645,
   "metadata": {},
   "outputs": [],
   "source": [
    "# normalize location\n",
    "for (key,val) in location.items():\n",
    "    s = val[2:]\n",
    "    location[key] = int(s)"
   ]
  },
  {
   "cell_type": "code",
   "execution_count": 646,
   "metadata": {},
   "outputs": [],
   "source": [
    "# communication time matrix\n",
    "c = []\n",
    "for k in range(K):\n",
    "    com = []\n",
    "    for i in range(len(tasks_1[k])):\n",
    "        compute = []\n",
    "        for j in range(J):\n",
    "            maximum = 0\n",
    "            for loc in demand[tasks_1[k][i]]:\n",
    "                src = location[loc] - 1\n",
    "                time = demand[tasks_1[k][i]][loc]/bandwidth[src][j]\n",
    "                if(time > maximum):\n",
    "                    maximum = time\n",
    "            compute.append(maximum)\n",
    "        com.append(compute)\n",
    "    c.append(com)"
   ]
  },
  {
   "cell_type": "code",
   "execution_count": 647,
   "metadata": {},
   "outputs": [],
   "source": [
    "# completion time records\n",
    "complete_time = {}\n",
    "job_complete_time = {}"
   ]
  },
  {
   "cell_type": "code",
   "execution_count": 648,
   "metadata": {},
   "outputs": [],
   "source": [
    "# completed job records\n",
    "complete_jobs = []"
   ]
  },
  {
   "cell_type": "code",
   "execution_count": 649,
   "metadata": {},
   "outputs": [],
   "source": [
    "# record global time\n",
    "global_time = 0"
   ]
  },
  {
   "cell_type": "code",
   "execution_count": 650,
   "metadata": {},
   "outputs": [],
   "source": [
    "# record current stages and total stages\n",
    "stages = [1,1,1,1,1,1]\n",
    "total_stages = []\n",
    "s = ''\n",
    "for i in toy_data_dict.keys():\n",
    "    for j in toy_data_dict[i]['stage'].keys():\n",
    "        s = int(j)\n",
    "    total_stages.append(s)"
   ]
  },
  {
   "cell_type": "code",
   "execution_count": 651,
   "metadata": {},
   "outputs": [],
   "source": [
    "# slots occupied by jobs\n",
    "occ_slots = {}"
   ]
  },
  {
   "cell_type": "markdown",
   "metadata": {},
   "source": [
    "# 建立线性模型"
   ]
  },
  {
   "cell_type": "code",
   "execution_count": 185,
   "metadata": {},
   "outputs": [],
   "source": [
    "# Create a ILP model\n",
    "m = gp.Model()"
   ]
  },
  {
   "cell_type": "code",
   "execution_count": 186,
   "metadata": {},
   "outputs": [],
   "source": [
    "x = []\n",
    "X = []\n",
    "for k in range(K):\n",
    "    x.append(0)\n",
    "    X.append(0)"
   ]
  },
  {
   "cell_type": "code",
   "execution_count": 187,
   "metadata": {
    "scrolled": true
   },
   "outputs": [],
   "source": [
    "for k in range(K):\n",
    "    x[k] = m.addVars(L[k],J,2,name=\"lambda\"+str(k))\n",
    "    X[k] = m.addVars(L[k],J,name=\"x\"+str(k))"
   ]
  },
  {
   "cell_type": "code",
   "execution_count": 188,
   "metadata": {},
   "outputs": [],
   "source": [
    "m.update()"
   ]
  },
  {
   "cell_type": "code",
   "execution_count": 189,
   "metadata": {},
   "outputs": [],
   "source": [
    "m.setObjective(\n",
    "    gp.quicksum(x[k][i,j,0]+x[k][i,j,1]*pow(M,c[k][i][j]+e[k][i])\n",
    "               for k in range(K) for i in range(L[k]) for j in range(J)),\n",
    "    gp.GRB.MINIMIZE\n",
    ")"
   ]
  },
  {
   "cell_type": "code",
   "execution_count": 190,
   "metadata": {
    "scrolled": true
   },
   "outputs": [
    {
     "data": {
      "text/plain": [
       "{(0, 0): <gurobi.Constr *Awaiting Model Update*>,\n",
       " (0, 1): <gurobi.Constr *Awaiting Model Update*>,\n",
       " (1, 0): <gurobi.Constr *Awaiting Model Update*>,\n",
       " (2, 0): <gurobi.Constr *Awaiting Model Update*>,\n",
       " (3, 0): <gurobi.Constr *Awaiting Model Update*>,\n",
       " (3, 1): <gurobi.Constr *Awaiting Model Update*>,\n",
       " (4, 0): <gurobi.Constr *Awaiting Model Update*>,\n",
       " (5, 0): <gurobi.Constr *Awaiting Model Update*>}"
      ]
     },
     "execution_count": 190,
     "metadata": {},
     "output_type": "execute_result"
    }
   ],
   "source": [
    "m.addConstrs(X[k][i,j] == x[k][i,j,1] \n",
    "             for k in range(K) for i in range(L[k]) for j in range(J))\n",
    "m.addConstrs(x[k][i,j,0] + x[k][i,j,1] == 1\n",
    "             for k in range(K) for i in range(L[k]) for j in range(J))\n",
    "m.addConstrs(gp.quicksum(X[k][i,j] for k in range(K) for i in range(L[k]))\n",
    "            <= a[j] for j in range(J))\n",
    "m.addConstrs(gp.quicksum(X[k][i,j] for j in range(J)) == 1\n",
    "            for k in range(K) for i in range(L[k]))"
   ]
  },
  {
   "cell_type": "code",
   "execution_count": 191,
   "metadata": {},
   "outputs": [
    {
     "name": "stdout",
     "output_type": "stream",
     "text": [
      "Gurobi Optimizer version 9.1.2 build v9.1.2rc0 (mac64)\n",
      "Thread count: 4 physical cores, 8 logical processors, using up to 8 threads\n",
      "Optimize a model with 229 rows, 312 columns and 624 nonzeros\n",
      "Model fingerprint: 0xfdfcecbd\n",
      "Coefficient statistics:\n",
      "  Matrix range     [1e+00, 1e+00]\n",
      "  Objective range  [1e+00, 6e+14]\n",
      "  Bounds range     [0e+00, 0e+00]\n",
      "  RHS range        [1e+00, 5e+00]\n",
      "Warning: Model contains large objective coefficients\n",
      "         Consider reformulating model or setting NumericFocus parameter\n",
      "         to avoid numerical issues.\n",
      "Presolve removed 208 rows and 208 columns\n",
      "Presolve time: 0.01s\n",
      "Presolved: 21 rows, 104 columns, 208 nonzeros\n",
      "\n",
      "Iteration    Objective       Primal Inf.    Dual Inf.      Time\n",
      "       0    1.0400000e+02   8.000000e+00   0.000000e+00      0s\n",
      "       8    1.7322726e+09   0.000000e+00   0.000000e+00      0s\n",
      "\n",
      "Solved in 8 iterations and 0.02 seconds\n",
      "Optimal objective  1.732272583e+09\n"
     ]
    }
   ],
   "source": [
    "m.optimize()"
   ]
  },
  {
   "cell_type": "markdown",
   "metadata": {},
   "source": [
    "# 第一轮迭代结果处理"
   ]
  },
  {
   "cell_type": "code",
   "execution_count": 193,
   "metadata": {},
   "outputs": [],
   "source": [
    "res = []"
   ]
  },
  {
   "cell_type": "code",
   "execution_count": 194,
   "metadata": {},
   "outputs": [],
   "source": [
    "for var in m.getVars():\n",
    "    if(var.X == 1.0 and var.varName[0] == 'x'):\n",
    "        res.append(int(var.varName[5:-1])+1)"
   ]
  },
  {
   "cell_type": "code",
   "execution_count": 196,
   "metadata": {},
   "outputs": [],
   "source": [
    "tasks_1_unfold = []\n",
    "for i in range(K):\n",
    "    for j in range(len(tasks_1[i])):\n",
    "        tasks_1_unfold.append(tasks_1[i][j])"
   ]
  },
  {
   "cell_type": "code",
   "execution_count": 197,
   "metadata": {},
   "outputs": [],
   "source": [
    "num = 0\n",
    "maxim = 0\n",
    "bottleneck = 0\n",
    "for i in range(K):\n",
    "    for j in range(len(tasks_1[i])):\n",
    "        time = c[i][j][res[num]-1]\n",
    "        if(time > maxim):\n",
    "            maxim = time\n",
    "            bottleneck = i\n",
    "        num += 1"
   ]
  },
  {
   "cell_type": "code",
   "execution_count": 199,
   "metadata": {},
   "outputs": [],
   "source": [
    "setted = []\n",
    "num = 0\n",
    "for i in range(K):\n",
    "    for j in range(len(tasks_1[i])):\n",
    "        if(i == bottleneck):\n",
    "            setted.append(res[num]-1)\n",
    "        num += 1"
   ]
  },
  {
   "cell_type": "markdown",
   "metadata": {},
   "source": [
    "# 线性求解接口实现"
   ]
  },
  {
   "cell_type": "code",
   "execution_count": 652,
   "metadata": {},
   "outputs": [],
   "source": [
    "# 定义线性函数接口\n",
    "def LP(K, L, avai, M):\n",
    "    m = gp.Model()\n",
    "    x = [0] * w\n",
    "    X = [0] * w\n",
    "    for k in K:\n",
    "        x[k] = m.addVars(L[k],J,2,name=\"lambda\"+str(k))\n",
    "        X[k] = m.addVars(L[k],J,name=\"x\"+str(k))\n",
    "    m.update()\n",
    "    m.setObjective(\n",
    "    gp.quicksum(x[k][i,j,0]+x[k][i,j,1]*pow(M,c[k][i][j]+e[k][i])\n",
    "            for k in K for i in range(L[k]) for j in range(J)),\n",
    "    gp.GRB.MINIMIZE\n",
    "    )\n",
    "    m.addConstrs(X[k][i,j] == x[k][i,j,1] \n",
    "            for k in K for i in range(L[k]) for j in range(J))\n",
    "    m.addConstrs(x[k][i,j,0] + x[k][i,j,1] == 1\n",
    "            for k in K for i in range(L[k]) for j in range(J))\n",
    "    m.addConstrs(gp.quicksum(X[k][i,j] for k in K for i in range(L[k]))\n",
    "            <= avai[j] for j in range(J))\n",
    "    m.addConstrs(gp.quicksum(X[k][i,j] for j in range(J)) == 1\n",
    "            for k in K for i in range(L[k]))\n",
    "    m.optimize()\n",
    "    print(m.objVal)\n",
    "    res = []\n",
    "    for var in m.getVars():\n",
    "        if(var.X == 1.0 and var.varName[0] == 'x'):\n",
    "            res.append(int(var.varName[5:-1])+1)\n",
    "    return res"
   ]
  },
  {
   "cell_type": "code",
   "execution_count": 653,
   "metadata": {},
   "outputs": [],
   "source": [
    "def update(K, avai, M):\n",
    "    num = 0\n",
    "    maxim = 0\n",
    "    bottleneck = 0\n",
    "    for i in K:\n",
    "        for j in range(len(tasks_new[i])):\n",
    "            time = c[i][j][res[num]-1] + e[i][j]\n",
    "            if(time > maxim):\n",
    "                maxim = time\n",
    "                bottleneck = i\n",
    "            num += 1\n",
    "    complete_time[bottleneck] = global_time + maxim\n",
    "    occ_slots[bottleneck] = []\n",
    "    setted = []\n",
    "    num = 0\n",
    "    for i in K:\n",
    "        for j in range(len(tasks_new[i])):\n",
    "            if(i == bottleneck):\n",
    "                setted.append(res[num]-1)\n",
    "                occ_slots[bottleneck].append(res[num]-1)\n",
    "                location[tasks_new[i][j]] = res[num]\n",
    "            num += 1\n",
    "    K.remove(bottleneck)\n",
    "    M = 0\n",
    "    for i in K:\n",
    "        M += J * L[i]\n",
    "    for i in setted:\n",
    "        avai[i] = avai[i] - 1\n",
    "    return K, avai, M"
   ]
  },
  {
   "cell_type": "markdown",
   "metadata": {},
   "source": [
    "# 完全调用接口重新实现第一轮迭代"
   ]
  },
  {
   "cell_type": "code",
   "execution_count": 654,
   "metadata": {},
   "outputs": [
    {
     "name": "stdout",
     "output_type": "stream",
     "text": [
      "Gurobi Optimizer version 9.1.2 build v9.1.2rc0 (mac64)\n",
      "Thread count: 4 physical cores, 8 logical processors, using up to 8 threads\n",
      "Optimize a model with 229 rows, 312 columns and 624 nonzeros\n",
      "Model fingerprint: 0xfdfcecbd\n",
      "Coefficient statistics:\n",
      "  Matrix range     [1e+00, 1e+00]\n",
      "  Objective range  [1e+00, 6e+14]\n",
      "  Bounds range     [0e+00, 0e+00]\n",
      "  RHS range        [1e+00, 5e+00]\n",
      "Warning: Model contains large objective coefficients\n",
      "         Consider reformulating model or setting NumericFocus parameter\n",
      "         to avoid numerical issues.\n",
      "Presolve removed 208 rows and 208 columns\n",
      "Presolve time: 0.01s\n",
      "Presolved: 21 rows, 104 columns, 208 nonzeros\n",
      "\n",
      "Iteration    Objective       Primal Inf.    Dual Inf.      Time\n",
      "       0    1.0400000e+02   8.000000e+00   0.000000e+00      0s\n",
      "       8    1.7322726e+09   0.000000e+00   0.000000e+00      0s\n",
      "\n",
      "Solved in 8 iterations and 0.02 seconds\n",
      "Optimal objective  1.732272583e+09\n",
      "1732272583.4946697\n",
      "Gurobi Optimizer version 9.1.2 build v9.1.2rc0 (mac64)\n",
      "Thread count: 4 physical cores, 8 logical processors, using up to 8 threads\n",
      "Optimize a model with 202 rows, 273 columns and 546 nonzeros\n",
      "Model fingerprint: 0x11a4bdba\n",
      "Coefficient statistics:\n",
      "  Matrix range     [1e+00, 1e+00]\n",
      "  Objective range  [1e+00, 2e+14]\n",
      "  Bounds range     [0e+00, 0e+00]\n",
      "  RHS range        [1e+00, 5e+00]\n",
      "Warning: Model contains large objective coefficients\n",
      "         Consider reformulating model or setting NumericFocus parameter\n",
      "         to avoid numerical issues.\n",
      "Presolve removed 182 rows and 182 columns\n",
      "Presolve time: 0.01s\n",
      "Presolved: 20 rows, 91 columns, 182 nonzeros\n",
      "\n",
      "Iteration    Objective       Primal Inf.    Dual Inf.      Time\n",
      "       0    9.1000000e+01   7.000000e+00   0.000000e+00      0s\n",
      "       7    4.5954958e+08   0.000000e+00   0.000000e+00      0s\n",
      "\n",
      "Solved in 7 iterations and 0.02 seconds\n",
      "Optimal objective  4.595495843e+08\n",
      "459549584.26199275\n",
      "Gurobi Optimizer version 9.1.2 build v9.1.2rc0 (mac64)\n",
      "Thread count: 4 physical cores, 8 logical processors, using up to 8 threads\n",
      "Optimize a model with 175 rows, 234 columns and 468 nonzeros\n",
      "Model fingerprint: 0x753cfc6a\n",
      "Coefficient statistics:\n",
      "  Matrix range     [1e+00, 1e+00]\n",
      "  Objective range  [1e+00, 8e+13]\n",
      "  Bounds range     [0e+00, 0e+00]\n",
      "  RHS range        [1e+00, 5e+00]\n",
      "Warning: Model contains large objective coefficients\n",
      "         Consider reformulating model or setting NumericFocus parameter\n",
      "         to avoid numerical issues.\n",
      "Presolve removed 157 rows and 162 columns\n",
      "Presolve time: 0.01s\n",
      "Presolved: 18 rows, 72 columns, 144 nonzeros\n",
      "\n",
      "Iteration    Objective       Primal Inf.    Dual Inf.      Time\n",
      "       0    7.8000000e+01   6.000000e+00   0.000000e+00      0s\n",
      "       6    1.1461040e+08   0.000000e+00   0.000000e+00      0s\n",
      "\n",
      "Solved in 6 iterations and 0.01 seconds\n",
      "Optimal objective  1.146104046e+08\n",
      "114610404.63060813\n",
      "Gurobi Optimizer version 9.1.2 build v9.1.2rc0 (mac64)\n",
      "Thread count: 4 physical cores, 8 logical processors, using up to 8 threads\n",
      "Optimize a model with 148 rows, 195 columns and 390 nonzeros\n",
      "Model fingerprint: 0x4faa4388\n",
      "Coefficient statistics:\n",
      "  Matrix range     [1e+00, 1e+00]\n",
      "  Objective range  [1e+00, 5e+09]\n",
      "  Bounds range     [0e+00, 0e+00]\n",
      "  RHS range        [1e+00, 5e+00]\n",
      "Warning: Model contains large objective coefficients\n",
      "         Consider reformulating model or setting NumericFocus parameter\n",
      "         to avoid numerical issues.\n",
      "Presolve removed 141 rows and 179 columns\n",
      "Presolve time: 0.01s\n",
      "Presolved: 7 rows, 16 columns, 28 nonzeros\n",
      "\n",
      "Iteration    Objective       Primal Inf.    Dual Inf.      Time\n",
      "       0    2.7468900e+05   4.000000e+00   0.000000e+00      0s\n",
      "       4    2.5214050e+06   0.000000e+00   0.000000e+00      0s\n",
      "\n",
      "Solved in 4 iterations and 0.01 seconds\n",
      "Optimal objective  2.521404959e+06\n",
      "2521404.958740014\n",
      "Gurobi Optimizer version 9.1.2 build v9.1.2rc0 (mac64)\n",
      "Thread count: 4 physical cores, 8 logical processors, using up to 8 threads\n",
      "Optimize a model with 121 rows, 156 columns and 312 nonzeros\n",
      "Model fingerprint: 0x6e78915e\n",
      "Coefficient statistics:\n",
      "  Matrix range     [1e+00, 1e+00]\n",
      "  Objective range  [1e+00, 1e+09]\n",
      "  Bounds range     [0e+00, 0e+00]\n",
      "  RHS range        [1e+00, 4e+00]\n",
      "Warning: Model contains large objective coefficients\n",
      "         Consider reformulating model or setting NumericFocus parameter\n",
      "         to avoid numerical issues.\n",
      "Presolve removed 115 rows and 144 columns\n",
      "Presolve time: 0.01s\n",
      "Presolved: 6 rows, 12 columns, 21 nonzeros\n",
      "\n",
      "Iteration    Objective       Primal Inf.    Dual Inf.      Time\n",
      "       0    1.4065900e+05   3.000000e+00   0.000000e+00      0s\n",
      "       3    5.2364564e+05   0.000000e+00   0.000000e+00      0s\n",
      "\n",
      "Solved in 3 iterations and 0.01 seconds\n",
      "Optimal objective  5.236456386e+05\n",
      "523645.63856505486\n",
      "Gurobi Optimizer version 9.1.2 build v9.1.2rc0 (mac64)\n",
      "Thread count: 4 physical cores, 8 logical processors, using up to 8 threads\n",
      "Optimize a model with 67 rows, 78 columns and 156 nonzeros\n",
      "Model fingerprint: 0x05b27985\n",
      "Coefficient statistics:\n",
      "  Matrix range     [1e+00, 1e+00]\n",
      "  Objective range  [1e+00, 9e+04]\n",
      "  Bounds range     [0e+00, 0e+00]\n",
      "  RHS range        [1e+00, 4e+00]\n",
      "Presolve removed 67 rows and 78 columns\n",
      "Presolve time: 0.01s\n",
      "Presolve: All rows and columns removed\n",
      "Iteration    Objective       Primal Inf.    Dual Inf.      Time\n",
      "       0    1.3760000e+03   0.000000e+00   0.000000e+00      0s\n",
      "\n",
      "Solved in 0 iterations and 0.01 seconds\n",
      "Optimal objective  1.376000000e+03\n",
      "1376.0\n"
     ]
    }
   ],
   "source": [
    "K = [0,1,2,3,4,5]\n",
    "# 注意copy()!\n",
    "avai = a.copy()\n",
    "M = 0\n",
    "w = 6\n",
    "tasks_new = tasks_1.copy()\n",
    "for i in K:\n",
    "        M += J * L[i]\n",
    "for i in range(w):\n",
    "    res = LP(K,L,avai,M)\n",
    "    K, avai, M = update(K, avai, M)"
   ]
  },
  {
   "cell_type": "markdown",
   "metadata": {},
   "source": [
    "# 第二轮stages调度"
   ]
  },
  {
   "cell_type": "code",
   "execution_count": 655,
   "metadata": {},
   "outputs": [],
   "source": [
    "# set thresholds for rescheduling\n",
    "time_threshold = 1\n",
    "job_threshold = 2"
   ]
  },
  {
   "cell_type": "code",
   "execution_count": 190,
   "metadata": {},
   "outputs": [],
   "source": [
    "# 分析在阈值之下完成的jobs\n",
    "num = 0\n",
    "wait = 0\n",
    "start = complete_time_order[0][1]\n",
    "complete_jobs.clear()\n",
    "for i in range(job_threshold):\n",
    "    wait = (complete_time_order[i][1] - start)\n",
    "    if(wait > time_threshold):\n",
    "        global_time = start + time_threshold\n",
    "        break\n",
    "    global_time = complete_time_order[i][1]\n",
    "    complete_jobs.append(complete_time_order[i][0])"
   ]
  },
  {
   "cell_type": "code",
   "execution_count": 191,
   "metadata": {},
   "outputs": [],
   "source": [
    "# 更新中间结果信息\n",
    "for i in complete_jobs:\n",
    "    if(stages[i] == total_stages[i]):\n",
    "        complete_jobs.remove(i)\n",
    "        job_complete_time[i] = complete_time_order[i][1]\n",
    "        del complete_time[i]\n",
    "    for j in occ_slots[i]:\n",
    "        avai[j] += 1\n",
    "    occ_slots[i].clear()    "
   ]
  },
  {
   "cell_type": "code",
   "execution_count": 192,
   "metadata": {},
   "outputs": [],
   "source": [
    "tasks_new = []\n",
    "K = complete_jobs.copy()\n",
    "num = 0\n",
    "for i in toy_data_dict.keys():\n",
    "    L[num] = 0\n",
    "    if num in complete_jobs:\n",
    "        tasks_new.append(toy_data_dict[i]['stage']['2'])\n",
    "        L[num] = len(toy_data_dict[i]['stage']['2'])\n",
    "    else:\n",
    "        tasks_new.append([])\n",
    "    num += 1\n",
    "M = 0\n",
    "for i in K:\n",
    "    M += J * L[i]"
   ]
  },
  {
   "cell_type": "markdown",
   "metadata": {},
   "source": [
    "# 多轮调度接口实现"
   ]
  },
  {
   "cell_type": "code",
   "execution_count": 656,
   "metadata": {},
   "outputs": [],
   "source": [
    "def release_resource():\n",
    "    complete_time_order = sorted(complete_time.items(), key=lambda x:x[1])\n",
    "    num = 0\n",
    "    wait = 0\n",
    "    start = complete_time_order[0][1]\n",
    "    remained_jobs = w - len(job_complete_time)\n",
    "    complete_jobs.clear()\n",
    "    for i in range(min(job_threshold,remained_jobs)):\n",
    "        wait = (complete_time_order[i][1] - start)\n",
    "        if(wait > time_threshold):\n",
    "            global_time = start + time_threshold\n",
    "            break\n",
    "        global_time = complete_time_order[i][1]\n",
    "        complete_jobs.append(complete_time_order[i][0])\n",
    "    num = 0\n",
    "    for i in complete_jobs:\n",
    "        if(stages[i] == total_stages[i]):\n",
    "            complete_jobs.remove(i)\n",
    "            job_complete_time[i] = complete_time_order[num][1]\n",
    "            del complete_time[i]\n",
    "        stages[i] += 1\n",
    "        for j in occ_slots[i]:\n",
    "            avai[j] += 1\n",
    "        occ_slots[i].clear()\n",
    "        num += 1\n",
    "    return global_time, complete_jobs, stages, job_complete_time, avai, occ_slots"
   ]
  },
  {
   "cell_type": "code",
   "execution_count": 657,
   "metadata": {},
   "outputs": [],
   "source": [
    "def set_next_iteration():\n",
    "    tasks_new.clear()\n",
    "    K = complete_jobs.copy()\n",
    "    num = 0\n",
    "    for i in toy_data_dict.keys():\n",
    "        L[num] = 0\n",
    "        if num in complete_jobs:\n",
    "            tasks_new.append(toy_data_dict[i]['stage'][str(stages[num])])\n",
    "            L[num] = len(toy_data_dict[i]['stage'][str(stages[num])])\n",
    "        else:\n",
    "            tasks_new.append([])\n",
    "        num += 1\n",
    "    M = 0\n",
    "    for i in K:\n",
    "        M += J * L[i]\n",
    "    e.clear()\n",
    "    num = 0\n",
    "    for i in toy_data_dict.keys():\n",
    "        exc = []\n",
    "        for j in toy_data_dict[i]['Execution Time'].keys():\n",
    "            if j in tasks_new[num]:\n",
    "                exc.append(toy_data_dict[i]['Execution Time'][j])\n",
    "        e.append(exc)\n",
    "        num += 1\n",
    "    c.clear()\n",
    "    for k in range(w):\n",
    "        com = []\n",
    "        for i in range(len(tasks_new[k])):\n",
    "            compute = []\n",
    "            for j in range(J):\n",
    "                maximum = 0\n",
    "                for loc in demand[tasks_new[k][i]]:\n",
    "                    src = location[loc] - 1\n",
    "                    time = demand[tasks_new[k][i]][loc]/bandwidth[src][j]\n",
    "                    if(time > maximum):\n",
    "                        maximum = time\n",
    "                compute.append(maximum)\n",
    "            com.append(compute)\n",
    "        c.append(com)\n",
    "        \n",
    "    return K, tasks_new, L, M, e, c"
   ]
  },
  {
   "cell_type": "markdown",
   "metadata": {},
   "source": [
    "# 例：用接口实现全过程调度"
   ]
  },
  {
   "cell_type": "code",
   "execution_count": 658,
   "metadata": {},
   "outputs": [
    {
     "name": "stdout",
     "output_type": "stream",
     "text": [
      "Gurobi Optimizer version 9.1.2 build v9.1.2rc0 (mac64)\n",
      "Thread count: 4 physical cores, 8 logical processors, using up to 8 threads\n",
      "Optimize a model with 94 rows, 117 columns and 234 nonzeros\n",
      "Model fingerprint: 0xa4b5dad4\n",
      "Coefficient statistics:\n",
      "  Matrix range     [1e+00, 1e+00]\n",
      "  Objective range  [1e+00, 8e+06]\n",
      "  Bounds range     [0e+00, 0e+00]\n",
      "  RHS range        [1e+00, 5e+00]\n",
      "Presolve removed 94 rows and 117 columns\n",
      "Presolve time: 0.01s\n",
      "Presolve: All rows and columns removed\n",
      "Iteration    Objective       Primal Inf.    Dual Inf.      Time\n",
      "       0    1.6890417e+04   0.000000e+00   0.000000e+00      0s\n",
      "\n",
      "Solved in 0 iterations and 0.01 seconds\n",
      "Optimal objective  1.689041746e+04\n",
      "16890.417460381326\n",
      "Gurobi Optimizer version 9.1.2 build v9.1.2rc0 (mac64)\n",
      "Thread count: 4 physical cores, 8 logical processors, using up to 8 threads\n",
      "Optimize a model with 40 rows, 39 columns and 78 nonzeros\n",
      "Model fingerprint: 0x089df074\n",
      "Coefficient statistics:\n",
      "  Matrix range     [1e+00, 1e+00]\n",
      "  Objective range  [1e+00, 7e+04]\n",
      "  Bounds range     [0e+00, 0e+00]\n",
      "  RHS range        [1e+00, 5e+00]\n",
      "Presolve removed 40 rows and 39 columns\n",
      "Presolve time: 0.01s\n",
      "Presolve: All rows and columns removed\n",
      "Iteration    Objective       Primal Inf.    Dual Inf.      Time\n",
      "       0    2.3672852e+02   0.000000e+00   0.000000e+00      0s\n",
      "\n",
      "Solved in 0 iterations and 0.01 seconds\n",
      "Optimal objective  2.367285182e+02\n",
      "236.72851821312386\n",
      "Gurobi Optimizer version 9.1.2 build v9.1.2rc0 (mac64)\n",
      "Thread count: 4 physical cores, 8 logical processors, using up to 8 threads\n",
      "Optimize a model with 121 rows, 156 columns and 312 nonzeros\n",
      "Model fingerprint: 0x3520a4e3\n",
      "Coefficient statistics:\n",
      "  Matrix range     [1e+00, 1e+00]\n",
      "  Objective range  [1e+00, 1e+07]\n",
      "  Bounds range     [0e+00, 0e+00]\n",
      "  RHS range        [1e+00, 5e+00]\n",
      "Presolve removed 121 rows and 156 columns\n",
      "Presolve time: 0.00s\n",
      "Presolve: All rows and columns removed\n",
      "Iteration    Objective       Primal Inf.    Dual Inf.      Time\n",
      "       0    3.2610150e+05   0.000000e+00   0.000000e+00      0s\n",
      "\n",
      "Solved in 0 iterations and 0.01 seconds\n",
      "Optimal objective  3.261014974e+05\n",
      "326101.4973845712\n",
      "Gurobi Optimizer version 9.1.2 build v9.1.2rc0 (mac64)\n",
      "Thread count: 4 physical cores, 8 logical processors, using up to 8 threads\n",
      "Optimize a model with 40 rows, 39 columns and 78 nonzeros\n",
      "Model fingerprint: 0xe288d2cb\n",
      "Coefficient statistics:\n",
      "  Matrix range     [1e+00, 1e+00]\n",
      "  Objective range  [1e+00, 1e+02]\n",
      "  Bounds range     [0e+00, 0e+00]\n",
      "  RHS range        [1e+00, 5e+00]\n",
      "Presolve removed 40 rows and 39 columns\n",
      "Presolve time: 0.00s\n",
      "Presolve: All rows and columns removed\n",
      "Iteration    Objective       Primal Inf.    Dual Inf.      Time\n",
      "       0    3.3028473e+01   0.000000e+00   0.000000e+00      0s\n",
      "\n",
      "Solved in 0 iterations and 0.01 seconds\n",
      "Optimal objective  3.302847269e+01\n",
      "33.028472694321465\n",
      "Gurobi Optimizer version 9.1.2 build v9.1.2rc0 (mac64)\n",
      "Thread count: 4 physical cores, 8 logical processors, using up to 8 threads\n",
      "Optimize a model with 67 rows, 78 columns and 156 nonzeros\n",
      "Model fingerprint: 0xc09224ac\n",
      "Coefficient statistics:\n",
      "  Matrix range     [1e+00, 1e+00]\n",
      "  Objective range  [1e+00, 3e+05]\n",
      "  Bounds range     [0e+00, 0e+00]\n",
      "  RHS range        [1e+00, 5e+00]\n",
      "Presolve removed 67 rows and 78 columns\n",
      "Presolve time: 0.01s\n",
      "Presolve: All rows and columns removed\n",
      "Iteration    Objective       Primal Inf.    Dual Inf.      Time\n",
      "       0    3.3722578e+04   0.000000e+00   0.000000e+00      0s\n",
      "\n",
      "Solved in 0 iterations and 0.01 seconds\n",
      "Optimal objective  3.372257800e+04\n",
      "33722.57800402747\n",
      "Gurobi Optimizer version 9.1.2 build v9.1.2rc0 (mac64)\n",
      "Thread count: 4 physical cores, 8 logical processors, using up to 8 threads\n",
      "Optimize a model with 40 rows, 39 columns and 78 nonzeros\n",
      "Model fingerprint: 0x03362008\n",
      "Coefficient statistics:\n",
      "  Matrix range     [1e+00, 1e+00]\n",
      "  Objective range  [1e+00, 4e+02]\n",
      "  Bounds range     [0e+00, 0e+00]\n",
      "  RHS range        [1e+00, 5e+00]\n",
      "Presolve removed 40 rows and 39 columns\n",
      "Presolve time: 0.01s\n",
      "Presolve: All rows and columns removed\n",
      "Iteration    Objective       Primal Inf.    Dual Inf.      Time\n",
      "       0    2.3672852e+02   0.000000e+00   0.000000e+00      0s\n",
      "\n",
      "Solved in 0 iterations and 0.01 seconds\n",
      "Optimal objective  2.367285182e+02\n",
      "236.72851821312386\n",
      "Gurobi Optimizer version 9.1.2 build v9.1.2rc0 (mac64)\n",
      "Thread count: 4 physical cores, 8 logical processors, using up to 8 threads\n",
      "Optimize a model with 40 rows, 39 columns and 78 nonzeros\n",
      "Model fingerprint: 0x65e0200c\n",
      "Coefficient statistics:\n",
      "  Matrix range     [1e+00, 1e+00]\n",
      "  Objective range  [1e+00, 4e+03]\n",
      "  Bounds range     [0e+00, 0e+00]\n",
      "  RHS range        [1e+00, 5e+00]\n",
      "Presolve removed 40 rows and 39 columns\n",
      "Presolve time: 0.01s\n",
      "Presolve: All rows and columns removed\n",
      "Iteration    Objective       Primal Inf.    Dual Inf.      Time\n",
      "       0    3.1934281e+01   0.000000e+00   0.000000e+00      0s\n",
      "\n",
      "Solved in 0 iterations and 0.01 seconds\n",
      "Optimal objective  3.193428108e+01\n",
      "31.93428108121304\n",
      "Gurobi Optimizer version 9.1.2 build v9.1.2rc0 (mac64)\n",
      "Thread count: 4 physical cores, 8 logical processors, using up to 8 threads\n",
      "Optimize a model with 67 rows, 78 columns and 156 nonzeros\n",
      "Model fingerprint: 0xa1e5b492\n",
      "Coefficient statistics:\n",
      "  Matrix range     [1e+00, 1e+00]\n",
      "  Objective range  [1e+00, 3e+04]\n",
      "  Bounds range     [0e+00, 0e+00]\n",
      "  RHS range        [1e+00, 5e+00]\n",
      "Presolve removed 67 rows and 78 columns\n",
      "Presolve time: 0.01s\n",
      "Presolve: All rows and columns removed\n",
      "Iteration    Objective       Primal Inf.    Dual Inf.      Time\n",
      "       0    1.2040783e+03   0.000000e+00   0.000000e+00      0s\n",
      "\n",
      "Solved in 0 iterations and 0.01 seconds\n",
      "Optimal objective  1.204078303e+03\n",
      "1204.0783026902002\n",
      "Gurobi Optimizer version 9.1.2 build v9.1.2rc0 (mac64)\n",
      "Thread count: 4 physical cores, 8 logical processors, using up to 8 threads\n",
      "Optimize a model with 67 rows, 78 columns and 156 nonzeros\n",
      "Model fingerprint: 0x58629f33\n",
      "Coefficient statistics:\n",
      "  Matrix range     [1e+00, 1e+00]\n",
      "  Objective range  [1e+00, 3e+05]\n",
      "  Bounds range     [0e+00, 0e+00]\n",
      "  RHS range        [1e+00, 5e+00]\n",
      "Presolve removed 67 rows and 78 columns\n",
      "Presolve time: 0.00s\n",
      "Presolve: All rows and columns removed\n",
      "Iteration    Objective       Primal Inf.    Dual Inf.      Time\n",
      "       0    3.3722578e+04   0.000000e+00   0.000000e+00      0s\n",
      "\n",
      "Solved in 0 iterations and 0.01 seconds\n",
      "Optimal objective  3.372257800e+04\n",
      "33722.57800402747\n",
      "Gurobi Optimizer version 9.1.2 build v9.1.2rc0 (mac64)\n",
      "Thread count: 4 physical cores, 8 logical processors, using up to 8 threads\n",
      "Optimize a model with 67 rows, 78 columns and 156 nonzeros\n",
      "Model fingerprint: 0xa41c5941\n",
      "Coefficient statistics:\n",
      "  Matrix range     [1e+00, 1e+00]\n",
      "  Objective range  [1e+00, 9e+12]\n",
      "  Bounds range     [0e+00, 0e+00]\n",
      "  RHS range        [1e+00, 5e+00]\n",
      "Warning: Model contains large objective coefficients\n",
      "         Consider reformulating model or setting NumericFocus parameter\n",
      "         to avoid numerical issues.\n",
      "Presolve removed 61 rows and 68 columns\n",
      "Presolve time: 0.01s\n",
      "Presolved: 6 rows, 10 columns, 18 nonzeros\n",
      "\n",
      "Iteration    Objective       Primal Inf.    Dual Inf.      Time\n",
      "       0    2.5984375e+01   1.000000e+00   0.000000e+00      0s\n",
      "       3    3.9959646e+09   0.000000e+00   0.000000e+00      0s\n",
      "\n",
      "Solved in 3 iterations and 0.01 seconds\n",
      "Optimal objective  3.995964570e+09\n",
      "3995964570.3354936\n",
      "Gurobi Optimizer version 9.1.2 build v9.1.2rc0 (mac64)\n",
      "Thread count: 4 physical cores, 8 logical processors, using up to 8 threads\n",
      "Optimize a model with 67 rows, 78 columns and 156 nonzeros\n",
      "Model fingerprint: 0x0b1becf4\n",
      "Coefficient statistics:\n",
      "  Matrix range     [1e+00, 1e+00]\n",
      "  Objective range  [1e+00, 2e+05]\n",
      "  Bounds range     [0e+00, 0e+00]\n",
      "  RHS range        [1e+00, 5e+00]\n",
      "Presolve removed 67 rows and 78 columns\n",
      "Presolve time: 0.01s\n",
      "Presolve: All rows and columns removed\n",
      "Iteration    Objective       Primal Inf.    Dual Inf.      Time\n",
      "       0    3.6187206e+03   0.000000e+00   0.000000e+00      0s\n",
      "\n",
      "Solved in 0 iterations and 0.01 seconds\n",
      "Optimal objective  3.618720641e+03\n",
      "3618.7206409470477\n",
      "Gurobi Optimizer version 9.1.2 build v9.1.2rc0 (mac64)\n",
      "Thread count: 4 physical cores, 8 logical processors, using up to 8 threads\n",
      "Optimize a model with 40 rows, 39 columns and 78 nonzeros\n",
      "Model fingerprint: 0x66576381\n",
      "Coefficient statistics:\n"
     ]
    },
    {
     "name": "stdout",
     "output_type": "stream",
     "text": [
      "  Matrix range     [1e+00, 1e+00]\n",
      "  Objective range  [1e+00, 4e+05]\n",
      "  Bounds range     [0e+00, 0e+00]\n",
      "  RHS range        [1e+00, 5e+00]\n",
      "Presolve removed 40 rows and 39 columns\n",
      "Presolve time: 0.01s\n",
      "Presolve: All rows and columns removed\n",
      "Iteration    Objective       Primal Inf.    Dual Inf.      Time\n",
      "       0    4.4918014e+03   0.000000e+00   0.000000e+00      0s\n",
      "\n",
      "Solved in 0 iterations and 0.01 seconds\n",
      "Optimal objective  4.491801449e+03\n",
      "4491.8014490249125\n",
      "Gurobi Optimizer version 9.1.2 build v9.1.2rc0 (mac64)\n",
      "Thread count: 4 physical cores, 8 logical processors, using up to 8 threads\n",
      "Optimize a model with 40 rows, 39 columns and 78 nonzeros\n",
      "Model fingerprint: 0x4d4f92fe\n",
      "Coefficient statistics:\n",
      "  Matrix range     [1e+00, 1e+00]\n",
      "  Objective range  [1e+00, 1e+07]\n",
      "  Bounds range     [0e+00, 0e+00]\n",
      "  RHS range        [1e+00, 5e+00]\n",
      "Presolve removed 40 rows and 39 columns\n",
      "Presolve time: 0.00s\n",
      "Presolve: All rows and columns removed\n",
      "Iteration    Objective       Primal Inf.    Dual Inf.      Time\n",
      "       0    9.8421358e+06   0.000000e+00   0.000000e+00      0s\n",
      "\n",
      "Solved in 0 iterations and 0.01 seconds\n",
      "Optimal objective  9.842135784e+06\n",
      "9842135.783507733\n"
     ]
    }
   ],
   "source": [
    "while(len(complete_time) != 0):\n",
    "    global_time, complete_jobs, stages, job_complete_time, avai, occ_slots = release_resource()\n",
    "    K, tasks_new, L, M, e, c = set_next_iteration()\n",
    "    for i in range(len(complete_jobs)):\n",
    "        res = LP(K,L,avai,M)\n",
    "        K, avai, M = update(K, avai, M)"
   ]
  },
  {
   "cell_type": "code",
   "execution_count": 659,
   "metadata": {
    "scrolled": true
   },
   "outputs": [
    {
     "data": {
      "text/plain": [
       "{0: 2.0,\n",
       " 1: 5.511111111111111,\n",
       " 2: 7.622222222222222,\n",
       " 3: 8.177777777777777,\n",
       " 4: 19.555555555555557,\n",
       " 5: 24.796825396825398}"
      ]
     },
     "execution_count": 659,
     "metadata": {},
     "output_type": "execute_result"
    }
   ],
   "source": [
    "job_complete_time"
   ]
  }
 ],
 "metadata": {
  "kernelspec": {
   "display_name": "Python 3",
   "language": "python",
   "name": "python3"
  },
  "language_info": {
   "codemirror_mode": {
    "name": "ipython",
    "version": 3
   },
   "file_extension": ".py",
   "mimetype": "text/x-python",
   "name": "python",
   "nbconvert_exporter": "python",
   "pygments_lexer": "ipython3",
   "version": "3.8.5"
  }
 },
 "nbformat": 4,
 "nbformat_minor": 4
}
